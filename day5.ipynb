{
  "nbformat": 4,
  "nbformat_minor": 0,
  "metadata": {
    "colab": {
      "provenance": [],
      "include_colab_link": true
    },
    "kernelspec": {
      "name": "python3",
      "display_name": "Python 3"
    },
    "language_info": {
      "name": "python"
    }
  },
  "cells": [
    {
      "cell_type": "markdown",
      "metadata": {
        "id": "view-in-github",
        "colab_type": "text"
      },
      "source": [
        "<a href=\"https://colab.research.google.com/github/kathyayanimadas/python-basics/blob/main/day5.ipynb\" target=\"_parent\"><img src=\"https://colab.research.google.com/assets/colab-badge.svg\" alt=\"Open In Colab\"/></a>"
      ]
    },
    {
      "cell_type": "code",
      "execution_count": null,
      "metadata": {
        "colab": {
          "base_uri": "https://localhost:8080/"
        },
        "id": "DGR572Xldih5",
        "outputId": "0181be83-7f5c-423b-cac0-3b6076569634"
      },
      "outputs": [
        {
          "output_type": "stream",
          "name": "stdout",
          "text": [
            "Odd\n"
          ]
        }
      ],
      "source": [
        "x=5\n",
        "if(x%2==0):\n",
        "  print(\"Even\")\n",
        "else:\n",
        "  print(\"Odd\")"
      ]
    },
    {
      "cell_type": "code",
      "source": [
        "x=int(input(\"Enter a positive number: \"))\n",
        "if(x%2==0):\n",
        "  print(\"Even\")\n",
        "else:\n",
        "  print(\"Odd\")"
      ],
      "metadata": {
        "colab": {
          "base_uri": "https://localhost:8080/"
        },
        "id": "_VhL-3EceT8v",
        "outputId": "56817d47-d409-4317-c7d6-457e61d3925a"
      },
      "execution_count": null,
      "outputs": [
        {
          "output_type": "stream",
          "name": "stdout",
          "text": [
            "Enter a positive number: 4\n",
            "Even\n"
          ]
        }
      ]
    },
    {
      "cell_type": "code",
      "source": [
        "x=int(input(\"Enter a number:\"))\n",
        "if(x>0):\n",
        "  print(\"Podsitive\")\n",
        "elif(x==0):\n",
        "  print(\"Zero\")\n",
        "else:\n",
        "  print(\"Negative\")"
      ],
      "metadata": {
        "colab": {
          "base_uri": "https://localhost:8080/"
        },
        "id": "etX6PMfUedKn",
        "outputId": "d84a61fa-cdd5-42b2-f084-1f78ebe23b6a"
      },
      "execution_count": null,
      "outputs": [
        {
          "output_type": "stream",
          "name": "stdout",
          "text": [
            "Enter a number:9\n",
            "Podsitive\n"
          ]
        }
      ]
    },
    {
      "cell_type": "code",
      "source": [
        "y=3\n",
        "if y>5:\n",
        "  print(\"M\")\n",
        "elif(y>4):\n",
        "  print(\"K\")\n",
        "elif y>7:\n",
        "  print(\"H\")\n",
        "else:\n",
        "  print(\"O\")"
      ],
      "metadata": {
        "colab": {
          "base_uri": "https://localhost:8080/"
        },
        "id": "t2JVDzojeyRg",
        "outputId": "6af0cc0f-3a37-41ed-f6a5-57421ea91ecc"
      },
      "execution_count": null,
      "outputs": [
        {
          "output_type": "stream",
          "name": "stdout",
          "text": [
            "O\n"
          ]
        }
      ]
    },
    {
      "cell_type": "code",
      "source": [
        "t=input()\n",
        "if('T' in t[0]) or ('t' in t[0]):\n",
        "  print(\"Yes\")\n",
        "else:\n",
        "  print('No')"
      ],
      "metadata": {
        "colab": {
          "base_uri": "https://localhost:8080/"
        },
        "id": "9OY1GTJ_kkAX",
        "outputId": "035f9f45-15a3-44a4-da08-d0b469d4c5c6"
      },
      "execution_count": null,
      "outputs": [
        {
          "output_type": "stream",
          "name": "stdout",
          "text": [
            "Tiger\n",
            "Yes\n"
          ]
        }
      ]
    },
    {
      "cell_type": "code",
      "source": [
        "t=input()\n",
        "if('T' in t[0])or('t' in t[0]):\n",
        "  print(\"Yes\")\n",
        "else:\n",
        "  print('No')"
      ],
      "metadata": {
        "colab": {
          "base_uri": "https://localhost:8080/"
        },
        "id": "8tXpIT9-kymo",
        "outputId": "8da24ab8-e8ce-4899-ac72-1c122be98833"
      },
      "execution_count": null,
      "outputs": [
        {
          "output_type": "stream",
          "name": "stdout",
          "text": [
            "toiger\n",
            "Yes\n"
          ]
        }
      ]
    },
    {
      "cell_type": "code",
      "source": [
        "t=input()\n",
        "if(t[0].lower()=='t')or(t[0].upper()=='s')or (t[0].lower()=='H')or(t[0].upper()=='m'):\n",
        "  print(\"Yes\")\n",
        "else:\n",
        "  print('No')"
      ],
      "metadata": {
        "colab": {
          "base_uri": "https://localhost:8080/"
        },
        "id": "1UszASE3laiK",
        "outputId": "6406e0aa-b739-4146-942c-4d2ad98013e3"
      },
      "execution_count": null,
      "outputs": [
        {
          "output_type": "stream",
          "name": "stdout",
          "text": [
            "tiger\n",
            "Yes\n"
          ]
        }
      ]
    },
    {
      "cell_type": "code",
      "source": [
        "t=input()\n",
        "if(t[0].lower() in ('s','t','m','h')):\n",
        "  print(\"Yes\")\n",
        "else:\n",
        "  print('No')"
      ],
      "metadata": {
        "colab": {
          "base_uri": "https://localhost:8080/"
        },
        "id": "yHslHE_imlpF",
        "outputId": "53c58537-83a6-4190-82e5-f8d6f7e82e59"
      },
      "execution_count": null,
      "outputs": [
        {
          "output_type": "stream",
          "name": "stdout",
          "text": [
            "Tiger\n",
            "Yes\n"
          ]
        }
      ]
    },
    {
      "cell_type": "code",
      "source": [],
      "metadata": {
        "id": "8P4qsWukqDiH"
      },
      "execution_count": null,
      "outputs": []
    }
  ]
}