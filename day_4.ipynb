{
  "nbformat": 4,
  "nbformat_minor": 0,
  "metadata": {
    "colab": {
      "provenance": [],
      "include_colab_link": true
    },
    "kernelspec": {
      "name": "python3",
      "display_name": "Python 3"
    },
    "language_info": {
      "name": "python"
    }
  },
  "cells": [
    {
      "cell_type": "markdown",
      "metadata": {
        "id": "view-in-github",
        "colab_type": "text"
      },
      "source": [
        "<a href=\"https://colab.research.google.com/github/kathyayanimadas/python-basics/blob/main/day_4.ipynb\" target=\"_parent\"><img src=\"https://colab.research.google.com/assets/colab-badge.svg\" alt=\"Open In Colab\"/></a>"
      ]
    },
    {
      "cell_type": "code",
      "execution_count": 2,
      "metadata": {
        "colab": {
          "base_uri": "https://localhost:8080/"
        },
        "id": "eowkE_lkTsGV",
        "outputId": "740da937-8c12-40ea-9dc3-c9d380c9a0fd"
      },
      "outputs": [
        {
          "output_type": "execute_result",
          "data": {
            "text/plain": [
              "{100: 4, 102: 7, 'B': 2}"
            ]
          },
          "metadata": {},
          "execution_count": 2
        }
      ],
      "source": [
        "d={100:4,102:7,'B':2}\n",
        "d"
      ]
    },
    {
      "cell_type": "code",
      "source": [
        "d['B']"
      ],
      "metadata": {
        "colab": {
          "base_uri": "https://localhost:8080/"
        },
        "id": "2w035nfaWVvC",
        "outputId": "3bcd7acd-f81a-4d55-8505-298d6fdcf291"
      },
      "execution_count": null,
      "outputs": [
        {
          "output_type": "execute_result",
          "data": {
            "text/plain": [
              "2"
            ]
          },
          "metadata": {},
          "execution_count": 7
        }
      ]
    },
    {
      "cell_type": "code",
      "source": [
        "d[101]=4"
      ],
      "metadata": {
        "id": "zQJL3ramW2pH"
      },
      "execution_count": null,
      "outputs": []
    },
    {
      "cell_type": "code",
      "source": [
        "d[101]"
      ],
      "metadata": {
        "colab": {
          "base_uri": "https://localhost:8080/"
        },
        "id": "jwPgY5eZXJlq",
        "outputId": "35145a01-30bb-4893-91c4-71078fddb1a4"
      },
      "execution_count": null,
      "outputs": [
        {
          "output_type": "execute_result",
          "data": {
            "text/plain": [
              "4"
            ]
          },
          "metadata": {},
          "execution_count": 12
        }
      ]
    },
    {
      "cell_type": "code",
      "source": [
        "d[101]=40"
      ],
      "metadata": {
        "id": "Rsc2nR7YXTLy"
      },
      "execution_count": null,
      "outputs": []
    },
    {
      "cell_type": "code",
      "source": [
        "d"
      ],
      "metadata": {
        "colab": {
          "base_uri": "https://localhost:8080/"
        },
        "id": "_XTC43NeXWx2",
        "outputId": "c5cfa7aa-458b-46de-a859-f2938d8bb91a"
      },
      "execution_count": null,
      "outputs": [
        {
          "output_type": "execute_result",
          "data": {
            "text/plain": [
              "{100: 4, 102: 7, 'B': 2, 101: 40}"
            ]
          },
          "metadata": {},
          "execution_count": 14
        }
      ]
    },
    {
      "cell_type": "code",
      "source": [
        "d.update({102:99})"
      ],
      "metadata": {
        "id": "_wTKBPT6XXXf"
      },
      "execution_count": null,
      "outputs": []
    },
    {
      "cell_type": "code",
      "source": [
        "d"
      ],
      "metadata": {
        "colab": {
          "base_uri": "https://localhost:8080/"
        },
        "id": "uHktK-0_Xhqq",
        "outputId": "f6c0a0a8-8fb5-4543-d554-0ec47b0d6c03"
      },
      "execution_count": null,
      "outputs": [
        {
          "output_type": "execute_result",
          "data": {
            "text/plain": [
              "{100: 4, 102: 99, 'B': 2, 101: 40}"
            ]
          },
          "metadata": {},
          "execution_count": 16
        }
      ]
    },
    {
      "cell_type": "code",
      "source": [
        "d.get(101)"
      ],
      "metadata": {
        "colab": {
          "base_uri": "https://localhost:8080/"
        },
        "id": "TxB5osOrXigi",
        "outputId": "b80bc9d5-3891-425e-9be9-283d00a06255"
      },
      "execution_count": null,
      "outputs": [
        {
          "output_type": "execute_result",
          "data": {
            "text/plain": [
              "40"
            ]
          },
          "metadata": {},
          "execution_count": 17
        }
      ]
    },
    {
      "cell_type": "code",
      "source": [
        "d.update({101:'India'})\n",
        "d"
      ],
      "metadata": {
        "colab": {
          "base_uri": "https://localhost:8080/"
        },
        "id": "oY2L9HAbXqMS",
        "outputId": "d68e4dc1-471b-4eca-ef5e-2ff5c1b2b035"
      },
      "execution_count": null,
      "outputs": [
        {
          "output_type": "execute_result",
          "data": {
            "text/plain": [
              "{100: 4, 102: 99, 'B': 2, 101: 'India'}"
            ]
          },
          "metadata": {},
          "execution_count": 18
        }
      ]
    },
    {
      "cell_type": "code",
      "source": [
        "d.update({106:'India'})\n",
        "d"
      ],
      "metadata": {
        "colab": {
          "base_uri": "https://localhost:8080/"
        },
        "id": "MWMGLc5RZOMu",
        "outputId": "a6424917-8370-4de6-eb27-1c58523a746b"
      },
      "execution_count": null,
      "outputs": [
        {
          "output_type": "execute_result",
          "data": {
            "text/plain": [
              "{100: 4, 102: 99, 'B': 2, 101: 'India', 106: 'India'}"
            ]
          },
          "metadata": {},
          "execution_count": 19
        }
      ]
    },
    {
      "cell_type": "code",
      "source": [
        "del d['B']"
      ],
      "metadata": {
        "id": "E9mqRPnua5jX"
      },
      "execution_count": null,
      "outputs": []
    },
    {
      "cell_type": "code",
      "source": [
        "d"
      ],
      "metadata": {
        "colab": {
          "base_uri": "https://localhost:8080/"
        },
        "id": "KgB6vO97bS9E",
        "outputId": "ec0b1963-ed68-43f5-fad8-a5a81e839025"
      },
      "execution_count": null,
      "outputs": [
        {
          "output_type": "execute_result",
          "data": {
            "text/plain": [
              "{100: 4, 102: 99, 101: 'India', 106: 'India'}"
            ]
          },
          "metadata": {},
          "execution_count": 21
        }
      ]
    },
    {
      "cell_type": "code",
      "source": [
        "d.keys()"
      ],
      "metadata": {
        "colab": {
          "base_uri": "https://localhost:8080/"
        },
        "id": "B2fy-FWnbTv5",
        "outputId": "4a30e54b-f558-48a4-e24c-2edca80f6558"
      },
      "execution_count": null,
      "outputs": [
        {
          "output_type": "execute_result",
          "data": {
            "text/plain": [
              "dict_keys([100, 102, 101, 106])"
            ]
          },
          "metadata": {},
          "execution_count": 22
        }
      ]
    },
    {
      "cell_type": "code",
      "source": [
        "d.values()"
      ],
      "metadata": {
        "colab": {
          "base_uri": "https://localhost:8080/"
        },
        "id": "9YZDiQYmb0f5",
        "outputId": "65f5f0d4-46e0-4d53-85f8-97691af8f77e"
      },
      "execution_count": null,
      "outputs": [
        {
          "output_type": "execute_result",
          "data": {
            "text/plain": [
              "dict_values([4, 99, 'India', 'India'])"
            ]
          },
          "metadata": {},
          "execution_count": 23
        }
      ]
    },
    {
      "cell_type": "code",
      "source": [
        "d.items()"
      ],
      "metadata": {
        "colab": {
          "base_uri": "https://localhost:8080/"
        },
        "id": "1v0SNgYAb2WE",
        "outputId": "b6b20856-728c-4827-d656-7aa8d0b24a3a"
      },
      "execution_count": null,
      "outputs": [
        {
          "output_type": "execute_result",
          "data": {
            "text/plain": [
              "dict_items([(100, 4), (102, 99), (101, 'India'), (106, 'India')])"
            ]
          },
          "metadata": {},
          "execution_count": 24
        }
      ]
    },
    {
      "cell_type": "code",
      "source": [
        "d[104]=[100,400,200,500]\n",
        "d"
      ],
      "metadata": {
        "colab": {
          "base_uri": "https://localhost:8080/"
        },
        "id": "8RpM6mgwb4Nu",
        "outputId": "e7c01e9b-1170-4862-f665-92fc124b2e7b"
      },
      "execution_count": null,
      "outputs": [
        {
          "output_type": "execute_result",
          "data": {
            "text/plain": [
              "{100: 4, 102: 99, 101: 'India', 106: 'India', 104: [100, 400, 200, 500]}"
            ]
          },
          "metadata": {},
          "execution_count": 25
        }
      ]
    },
    {
      "cell_type": "code",
      "source": [
        "d.update({103:[1000,2000,3000,4000]})\n",
        "print(d)"
      ],
      "metadata": {
        "colab": {
          "base_uri": "https://localhost:8080/"
        },
        "id": "-MaGz7pRcF5H",
        "outputId": "0930c781-addd-4a3b-ed4d-a6ece5962703"
      },
      "execution_count": null,
      "outputs": [
        {
          "output_type": "stream",
          "name": "stdout",
          "text": [
            "{100: 4, 102: 99, 101: 'India', 106: 'India', 104: [100, 400, 200, 500], 103: [1000, 2000, 3000, 4000]}\n"
          ]
        }
      ]
    },
    {
      "cell_type": "code",
      "source": [
        "del d[104]"
      ],
      "metadata": {
        "id": "nkfi1NdtcT5z"
      },
      "execution_count": null,
      "outputs": []
    },
    {
      "cell_type": "code",
      "source": [
        "d"
      ],
      "metadata": {
        "colab": {
          "base_uri": "https://localhost:8080/"
        },
        "id": "Vyd9wENschhd",
        "outputId": "337dd847-8e9d-4aac-b5a4-abc0d63dd8c4"
      },
      "execution_count": null,
      "outputs": [
        {
          "output_type": "execute_result",
          "data": {
            "text/plain": [
              "{100: 4, 102: 99, 101: 'India', 106: 'India', 103: [1000, 2000, 3000, 4000]}"
            ]
          },
          "metadata": {},
          "execution_count": 30
        }
      ]
    },
    {
      "cell_type": "code",
      "source": [
        "type(d[102])"
      ],
      "metadata": {
        "colab": {
          "base_uri": "https://localhost:8080/"
        },
        "id": "DgJWduINciuT",
        "outputId": "5e1695db-26b0-4e8f-d33c-58bcf03ba9b6"
      },
      "execution_count": null,
      "outputs": [
        {
          "output_type": "execute_result",
          "data": {
            "text/plain": [
              "int"
            ]
          },
          "metadata": {},
          "execution_count": 31
        }
      ]
    },
    {
      "cell_type": "code",
      "source": [
        "type(d[103])"
      ],
      "metadata": {
        "colab": {
          "base_uri": "https://localhost:8080/"
        },
        "id": "6R3QiPGbdOTT",
        "outputId": "3cb759c2-eac4-4fad-bf30-78304e569502"
      },
      "execution_count": null,
      "outputs": [
        {
          "output_type": "execute_result",
          "data": {
            "text/plain": [
              "list"
            ]
          },
          "metadata": {},
          "execution_count": 32
        }
      ]
    },
    {
      "cell_type": "code",
      "source": [
        "type(d[101])"
      ],
      "metadata": {
        "colab": {
          "base_uri": "https://localhost:8080/"
        },
        "id": "uSFMXbEqdQTP",
        "outputId": "681b2ae0-f7cc-48f3-d8da-d28410817ba2"
      },
      "execution_count": null,
      "outputs": [
        {
          "output_type": "execute_result",
          "data": {
            "text/plain": [
              "str"
            ]
          },
          "metadata": {},
          "execution_count": 34
        }
      ]
    },
    {
      "cell_type": "code",
      "source": [
        "d[103][0:3]"
      ],
      "metadata": {
        "colab": {
          "base_uri": "https://localhost:8080/"
        },
        "id": "RyNaD1bTdV86",
        "outputId": "cdc56a40-69a6-48ec-aa7e-57e9ba37319e"
      },
      "execution_count": null,
      "outputs": [
        {
          "output_type": "execute_result",
          "data": {
            "text/plain": [
              "[1000, 2000, 3000]"
            ]
          },
          "metadata": {},
          "execution_count": 35
        }
      ]
    },
    {
      "cell_type": "code",
      "source": [
        "d[103].index(1000)"
      ],
      "metadata": {
        "colab": {
          "base_uri": "https://localhost:8080/"
        },
        "id": "Tq4ljzl7eN09",
        "outputId": "f111e8b6-b503-4f82-ae5e-dbc41d931afc"
      },
      "execution_count": null,
      "outputs": [
        {
          "output_type": "execute_result",
          "data": {
            "text/plain": [
              "0"
            ]
          },
          "metadata": {},
          "execution_count": 36
        }
      ]
    },
    {
      "cell_type": "code",
      "source": [
        "d[104]=(1000,2000,3000)\n",
        "print(d)"
      ],
      "metadata": {
        "colab": {
          "base_uri": "https://localhost:8080/"
        },
        "id": "jgLuUKqFeWGt",
        "outputId": "5b1cf8c6-a65c-43ba-bb66-7414305c442e"
      },
      "execution_count": null,
      "outputs": [
        {
          "output_type": "stream",
          "name": "stdout",
          "text": [
            "{100: 4, 102: 99, 101: 'India', 106: 'India', 103: [1000, 2000, 3000, 4000], 104: (1000, 2000, 3000)}\n"
          ]
        }
      ]
    },
    {
      "cell_type": "code",
      "source": [
        "d[103].append(50000)"
      ],
      "metadata": {
        "id": "dirsRkK-edzG"
      },
      "execution_count": null,
      "outputs": []
    },
    {
      "cell_type": "code",
      "source": [
        "print(d)"
      ],
      "metadata": {
        "colab": {
          "base_uri": "https://localhost:8080/"
        },
        "id": "J_gBhpq0eqUI",
        "outputId": "dc8b5254-24d0-4cc9-c19c-ef010f218215"
      },
      "execution_count": null,
      "outputs": [
        {
          "output_type": "stream",
          "name": "stdout",
          "text": [
            "{100: 4, 102: 99, 101: 'India', 106: 'India', 103: [1000, 2000, 3000, 4000, 50000], 104: (1000, 2000, 3000)}\n"
          ]
        }
      ]
    },
    {
      "cell_type": "code",
      "source": [
        "d[105]={'a':[30,40,50],'b':(1000,3000,2000),'c':['k',{'L':[11,22],'w':(77,88)},'N']}"
      ],
      "metadata": {
        "id": "LrvOBS5meq9z"
      },
      "execution_count": null,
      "outputs": []
    },
    {
      "cell_type": "code",
      "source": [
        "print(d)"
      ],
      "metadata": {
        "colab": {
          "base_uri": "https://localhost:8080/"
        },
        "id": "_lZkHg4OgmN3",
        "outputId": "3d49f8f9-fd9b-401c-a621-baae0d805621"
      },
      "execution_count": null,
      "outputs": [
        {
          "output_type": "stream",
          "name": "stdout",
          "text": [
            "{100: 4, 102: 99, 101: 'India', 106: 'India', 103: [1000, 2000, 3000, 4000, 50000], 104: (1000, 2000, 3000), 105: {'a': [30, 40, 50], 'b': (1000, 3000, 2000), 'c': ['k', {'L': [11, 22], 'w': (77, 88)}, 'N']}}\n"
          ]
        }
      ]
    },
    {
      "cell_type": "code",
      "source": [
        "d['apple']=(20,10,70,[90,180,270])"
      ],
      "metadata": {
        "id": "UEyOH8Lqg8cl"
      },
      "execution_count": 4,
      "outputs": []
    },
    {
      "cell_type": "code",
      "source": [
        "d['apple'][3][1]\n",
        "\n"
      ],
      "metadata": {
        "id": "SRggVQ8MhOFn",
        "colab": {
          "base_uri": "https://localhost:8080/"
        },
        "outputId": "31aea61a-8dba-4e14-e107-59e7e7d0bac7"
      },
      "execution_count": 5,
      "outputs": [
        {
          "output_type": "execute_result",
          "data": {
            "text/plain": [
              "180"
            ]
          },
          "metadata": {},
          "execution_count": 5
        }
      ]
    },
    {
      "cell_type": "code",
      "source": [],
      "metadata": {
        "id": "Vq8-_RK2hbFl"
      },
      "execution_count": null,
      "outputs": []
    }
  ]
}