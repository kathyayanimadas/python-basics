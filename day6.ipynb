{
  "nbformat": 4,
  "nbformat_minor": 0,
  "metadata": {
    "colab": {
      "provenance": [],
      "include_colab_link": true
    },
    "kernelspec": {
      "name": "python3",
      "display_name": "Python 3"
    },
    "language_info": {
      "name": "python"
    }
  },
  "cells": [
    {
      "cell_type": "markdown",
      "metadata": {
        "id": "view-in-github",
        "colab_type": "text"
      },
      "source": [
        "<a href=\"https://colab.research.google.com/github/kathyayanimadas/python-basics/blob/main/day6.ipynb\" target=\"_parent\"><img src=\"https://colab.research.google.com/assets/colab-badge.svg\" alt=\"Open In Colab\"/></a>"
      ]
    },
    {
      "cell_type": "code",
      "source": [
        "x=9\n",
        "while x<10:\n",
        "  print(\"Yes\")\n",
        "  x+=1"
      ],
      "metadata": {
        "colab": {
          "base_uri": "https://localhost:8080/"
        },
        "id": "OxyBEtnMW0ek",
        "outputId": "5e54ec24-2109-4f1c-a34d-875d1640f4dc"
      },
      "execution_count": null,
      "outputs": [
        {
          "output_type": "stream",
          "name": "stdout",
          "text": [
            "Yes\n"
          ]
        }
      ]
    },
    {
      "cell_type": "code",
      "execution_count": null,
      "metadata": {
        "colab": {
          "base_uri": "https://localhost:8080/"
        },
        "id": "b97jpkRIVcN-",
        "outputId": "94fa82a2-7f5c-467c-a735-04cce4967403"
      },
      "outputs": [
        {
          "output_type": "stream",
          "name": "stdout",
          "text": [
            "Yes 9\n"
          ]
        }
      ],
      "source": [
        "x=9\n",
        "while x<10:\n",
        "  print(\"Yes\",x)\n",
        "  x+=1"
      ]
    },
    {
      "cell_type": "code",
      "source": [
        "y=[6,7,9,3,5]"
      ],
      "metadata": {
        "id": "uop1SBrdYdz-"
      },
      "execution_count": null,
      "outputs": []
    },
    {
      "cell_type": "code",
      "source": [
        "y\n"
      ],
      "metadata": {
        "colab": {
          "base_uri": "https://localhost:8080/"
        },
        "id": "uaN2UubBY9DH",
        "outputId": "b5be5514-23ba-4981-8810-833a861056ec"
      },
      "execution_count": null,
      "outputs": [
        {
          "output_type": "execute_result",
          "data": {
            "text/plain": [
              "[6, 7, 9, 3, 5]"
            ]
          },
          "metadata": {},
          "execution_count": 11
        }
      ]
    },
    {
      "cell_type": "code",
      "source": [
        "for t in y:\n",
        "  print(t*85)"
      ],
      "metadata": {
        "colab": {
          "base_uri": "https://localhost:8080/"
        },
        "id": "vS0AnrAPZjax",
        "outputId": "a748bc81-7d96-4d11-f325-0d9a1de4e281"
      },
      "execution_count": null,
      "outputs": [
        {
          "output_type": "stream",
          "name": "stdout",
          "text": [
            "510\n",
            "595\n",
            "765\n",
            "255\n",
            "425\n"
          ]
        }
      ]
    },
    {
      "cell_type": "code",
      "source": [
        "g=[]\n",
        "for t in y:\n",
        "  k=(t*5)+10\n",
        "  g.append(k)\n",
        "print(g)"
      ],
      "metadata": {
        "colab": {
          "base_uri": "https://localhost:8080/"
        },
        "id": "UDX2fsbsZ2gi",
        "outputId": "9275d627-3fcd-4eec-ac01-5d9213e22241"
      },
      "execution_count": null,
      "outputs": [
        {
          "output_type": "stream",
          "name": "stdout",
          "text": [
            "[40, 45, 55, 25, 35]\n"
          ]
        }
      ]
    },
    {
      "cell_type": "code",
      "source": [
        "n=[34,94,54,30,74,95,33,37]\n",
        "n"
      ],
      "metadata": {
        "colab": {
          "base_uri": "https://localhost:8080/"
        },
        "id": "Cp7uYOOmat7y",
        "outputId": "e89719d3-6275-497e-83b4-44d3fc2627f6"
      },
      "execution_count": null,
      "outputs": [
        {
          "output_type": "execute_result",
          "data": {
            "text/plain": [
              "[34, 94, 54, 30, 74, 95, 33, 37]"
            ]
          },
          "metadata": {},
          "execution_count": 36
        }
      ]
    },
    {
      "cell_type": "code",
      "source": [
        "g=[]\n",
        "h=[]\n",
        "for i in n:\n",
        "  if i%2==0:\n",
        "    g.append(i)\n",
        "  else:\n",
        "    h.append(i)\n",
        "print(\"Even=\",g)\n",
        "print(\"Odd=\",h)"
      ],
      "metadata": {
        "colab": {
          "base_uri": "https://localhost:8080/"
        },
        "id": "5nlaLZpXdDvO",
        "outputId": "41b0348c-db47-4f65-e11b-8a9b476e493c"
      },
      "execution_count": null,
      "outputs": [
        {
          "output_type": "stream",
          "name": "stdout",
          "text": [
            "Even= [34, 94, 54, 30, 74]\n",
            "Odd= [95, 33, 37]\n"
          ]
        }
      ]
    },
    {
      "cell_type": "code",
      "source": [
        "n=[31,45,66,33,90,78,67,87,89,93,25,59,9,81]"
      ],
      "metadata": {
        "id": "Qt_Zb15sdYUR"
      },
      "execution_count": null,
      "outputs": []
    },
    {
      "cell_type": "code",
      "source": [
        "n"
      ],
      "metadata": {
        "colab": {
          "base_uri": "https://localhost:8080/"
        },
        "id": "B9-L7XeEfVrf",
        "outputId": "1cea9d25-e6cb-4d06-9d22-37424f12d9ed"
      },
      "execution_count": null,
      "outputs": [
        {
          "output_type": "execute_result",
          "data": {
            "text/plain": [
              "[31, 45, 66, 33, 90, 78, 67, 87, 89, 93, 25, 59, 9, 81]"
            ]
          },
          "metadata": {},
          "execution_count": 46
        }
      ]
    },
    {
      "cell_type": "code",
      "source": [
        "num=[]\n",
        "for i in n:\n",
        "  a=str(i)\n",
        "  b=a.replace('8','5')\n",
        "  c=int(b)\n",
        "  num.append(c)\n",
        "print(num)"
      ],
      "metadata": {
        "colab": {
          "base_uri": "https://localhost:8080/"
        },
        "id": "_JWJTkLxgqlU",
        "outputId": "8096fc7e-0cee-4191-d4bc-6fcb915d5906"
      },
      "execution_count": null,
      "outputs": [
        {
          "output_type": "stream",
          "name": "stdout",
          "text": [
            "[31, 45, 66, 33, 90, 75, 67, 57, 59, 93, 25, 59, 9, 51]\n"
          ]
        }
      ]
    },
    {
      "cell_type": "code",
      "source": [
        "g='Solutions'\n",
        "k=''\n",
        "for i in g:\n",
        "  if i.lower() not in ('s','o'):\n",
        "    k+=i\n",
        "print(k)"
      ],
      "metadata": {
        "colab": {
          "base_uri": "https://localhost:8080/"
        },
        "id": "EIddyVCjhawL",
        "outputId": "9ec68ed8-9a51-4f46-eb58-8673fdc00b08"
      },
      "execution_count": null,
      "outputs": [
        {
          "output_type": "stream",
          "name": "stdout",
          "text": [
            "lutin\n"
          ]
        }
      ]
    }
  ]
}